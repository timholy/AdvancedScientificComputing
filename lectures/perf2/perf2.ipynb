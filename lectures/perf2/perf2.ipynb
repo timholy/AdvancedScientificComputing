{
 "cells": [
  {
   "cell_type": "code",
   "execution_count": null,
   "id": "3a4757d7",
   "metadata": {},
   "outputs": [],
   "source": [
    "using PyPlot\n",
    "pygui(true)\n",
    "\n",
    "function load_matrix(filename)\n",
    "    open(filename) do io\n",
    "        c = read(io, Char)\n",
    "        @assert c == ','\n",
    "        line = readuntil(io, '\\n')\n",
    "        ns = parse.(Int, split(line, ','))\n",
    "        lines = readlines(io)\n",
    "        mlen = length(lines)\n",
    "        tqs = Matrix{Float64}(undef, mlen, length(ns))\n",
    "        tls = similar(tqs)\n",
    "        ms = Vector{Int}(undef, mlen)\n",
    "        for (i, line) in enumerate(lines)\n",
    "            m = match(r\"(\\d+),\", line)\n",
    "            ms[i] = parse(Int, m.captures[1])\n",
    "            idx = m.offset + length(m.captures[1])\n",
    "            for j = 1:length(ns)\n",
    "                ts = match(r\"\\(([+-]?[0-9]*[.]?[0-9e+-]+),([+-]?[0-9]*[.]?[0-9e+-]+)\\)\", line, idx)\n",
    "                tqs[i,j] = parse(Float64, ts.captures[1])\n",
    "                tls[i,j] = parse(Float64, ts.captures[2])\n",
    "                idx += length(ts.match)\n",
    "            end\n",
    "        end\n",
    "        return ms, ns, tqs, tls\n",
    "    end\n",
    "end\n",
    "\n",
    "ms_jl, ns_jl, tqs_jl, tls_jl = load_matrix(\"timing_jl.csv\")\n",
    "ms_py, ns_py, tqs_py, tls_py = load_matrix(\"timing_py.csv\")\n",
    "\n",
    "@assert ms_jl == ms_py\n",
    "@assert ns_jl == ns_py\n",
    "ms, ns = ms_jl, ns_jl\n",
    "ms1 = fill(1, length(ms))\n",
    "ns1 = fill(1, length(ns))\n"
   ]
  },
  {
   "cell_type": "markdown",
   "id": "1d8523b8",
   "metadata": {
    "slideshow": {
     "slide_type": "slide"
    }
   },
   "source": [
    "# High performance computing on your laptop II: algorithms, memory, and parallelism\n",
    "\n",
    "![machine](figures/rube-goldberg.png)\n",
    "\n",
    "Timothy E. Holy\n",
    "\n",
    "Washington University in St. Louis"
   ]
  },
  {
   "cell_type": "markdown",
   "id": "c1b22687",
   "metadata": {
    "slideshow": {
     "slide_type": "slide"
    }
   },
   "source": [
    "# Algorithms: the other half of performance\n",
    "\n",
    "A fast language can be beat by a slow one *if* the code in the slow language solves the problem more efficiently."
   ]
  },
  {
   "cell_type": "markdown",
   "id": "d80de71a",
   "metadata": {
    "slideshow": {
     "slide_type": "fragment"
    }
   },
   "source": [
    "*However*, in a slow language the converse can also be true: a poor algorithm might run faster than a good algorithm due to language limitations: certain constructs are implemented efficiently, and certain other constructs are not."
   ]
  },
  {
   "cell_type": "markdown",
   "id": "2d451b10",
   "metadata": {
    "slideshow": {
     "slide_type": "fragment"
    }
   },
   "source": [
    "Julia's advantage: no language limitations! So use the best algorithm and you will get the best performance. Good for performance & *good for learning*."
   ]
  },
  {
   "cell_type": "markdown",
   "id": "323f233b",
   "metadata": {
    "slideshow": {
     "slide_type": "slide"
    }
   },
   "source": [
    "# A simple case study: counting the number of times each value appears"
   ]
  },
  {
   "cell_type": "code",
   "execution_count": null,
   "id": "1aed0be0",
   "metadata": {},
   "outputs": [],
   "source": [
    "choices = 1:3\n",
    "samples = rand(choices, 10)\n",
    "print(samples)"
   ]
  },
  {
   "cell_type": "markdown",
   "id": "fce57092",
   "metadata": {},
   "source": [
    "How many 1s, 2s, and 3s are there in `samples`?"
   ]
  },
  {
   "cell_type": "markdown",
   "id": "06bab701",
   "metadata": {
    "slideshow": {
     "slide_type": "subslide"
    }
   },
   "source": [
    "## Implementation #1: using `count`\n",
    "\n",
    "To avoid measuring the time needed to allocate the output, let's pre-allocate a vector `counts` for the result:\n",
    "\n",
    "```julia\n",
    "function countelements_bilinear!(counts::AbstractVector{Int}, sequence)\n",
    "    for idx in eachindex(counts)\n",
    "        counts[idx] = count(==(idx), sequence)\n",
    "    end\n",
    "    return counts\n",
    "end\n",
    "```"
   ]
  },
  {
   "cell_type": "markdown",
   "id": "567f06d9",
   "metadata": {
    "slideshow": {
     "slide_type": "subslide"
    }
   },
   "source": [
    "How fast will this run? Let:\n",
    "- `m = length(counts)`\n",
    "- `n = length(sequence)`"
   ]
  },
  {
   "cell_type": "markdown",
   "id": "bef53c0a",
   "metadata": {
    "slideshow": {
     "slide_type": "fragment"
    }
   },
   "source": [
    "We're calling `count` on `sequence` `m` times, so:\n",
    "\n",
    "$$\n",
    "t_\\mathrm{total} = m t_\\mathrm{count\\ sequence}\n",
    "$$"
   ]
  },
  {
   "cell_type": "markdown",
   "id": "1271eebd",
   "metadata": {
    "slideshow": {
     "slide_type": "subslide"
    }
   },
   "source": [
    "How is `count` implemented? Here's the (only lightly-edited) code (discover this with `@which`):\n",
    "\n",
    "```julia\n",
    "function count(pred, itr, init = 0)   # `pred` is short for \"predicate function\"\n",
    "    n = init\n",
    "    for x in itr\n",
    "        n += pred(x)::Bool    # `pred(x)` must return `true` or `false` (error otherwise)\n",
    "    end\n",
    "    return n\n",
    "end\n",
    "```"
   ]
  },
  {
   "cell_type": "markdown",
   "id": "eab58bd4",
   "metadata": {
    "slideshow": {
     "slide_type": "fragment"
    }
   },
   "source": [
    "So the running time $t_\\mathrm{count\\ sequence} \\propto n$ (the number of items in `sequence`)"
   ]
  },
  {
   "cell_type": "markdown",
   "id": "34ca2251",
   "metadata": {
    "slideshow": {
     "slide_type": "subslide"
    }
   },
   "source": [
    "Thus, overall\n",
    "\n",
    "$$\n",
    "t_\\mathrm{total} \\propto m n\n",
    "$$\n",
    "\n",
    "This is *bilinear*, meaning linear in each of two variables, $m$ and $n$."
   ]
  },
  {
   "cell_type": "markdown",
   "id": "4c0403fd",
   "metadata": {
    "slideshow": {
     "slide_type": "fragment"
    }
   },
   "source": [
    "Examples:\n",
    "\n",
    "| m | n | ttotal |\n",
    "| ---:| ---:| ---:|\n",
    "| 3 | 3 | 9 |\n",
    "| 3 | 1000 | 3,000 |\n",
    "| 1000 | 1000 | 1,000,000|"
   ]
  },
  {
   "cell_type": "markdown",
   "id": "acf16472",
   "metadata": {
    "slideshow": {
     "slide_type": "slide"
    }
   },
   "source": [
    "# Implementation #2: using indexing\n",
    "\n",
    "```julia\n",
    "function countelements_linear!(counts::AbstractVector{Int}, sequence)\n",
    "    fill!(counts, 0)          # initialize all to 0\n",
    "    for item in sequence\n",
    "        counts[item] += 1     # increment appropriate counter for each item\n",
    "    end\n",
    "    return counts\n",
    "end\n",
    "```"
   ]
  },
  {
   "cell_type": "markdown",
   "id": "1189fb38",
   "metadata": {
    "slideshow": {
     "slide_type": "fragment"
    }
   },
   "source": [
    "$$\n",
    "t_\\mathrm{total} = t_\\mathrm{fill} + n t_\\mathrm{increment}\n",
    "$$\n",
    "\n",
    "But $t_\\mathrm{increment}$ is approximately constant (doesn't depend on `length(counts)`)"
   ]
  },
  {
   "cell_type": "markdown",
   "id": "070f2d7f",
   "metadata": {
    "slideshow": {
     "slide_type": "subslide"
    }
   },
   "source": [
    "`fill!` sets each element of `counts` to 0, so $t_\\mathrm{fill} \\propto m$."
   ]
  },
  {
   "cell_type": "markdown",
   "id": "fbb95d77",
   "metadata": {
    "slideshow": {
     "slide_type": "fragment"
    }
   },
   "source": [
    "Total: $t_\\mathrm{total} \\propto m + n$\n",
    "\n",
    "This is linear in each variable separately."
   ]
  },
  {
   "cell_type": "markdown",
   "id": "0f710f6b",
   "metadata": {
    "slideshow": {
     "slide_type": "subslide"
    }
   },
   "source": [
    "Examples:\n",
    "\n",
    "| m | n | t (calling `count`) | t (using indexing) |\n",
    "| ---:| ---:| ---:| --:|\n",
    "| 3 | 3 | 9 | 6 |\n",
    "| 3 | 1000 | 3,000 | 1,003 |\n",
    "| 1000 | 1000 | 1,000,000| 2,000 |"
   ]
  },
  {
   "cell_type": "markdown",
   "id": "b2ca972e",
   "metadata": {
    "slideshow": {
     "slide_type": "fragment"
    }
   },
   "source": [
    "Use indexing for the win! The difference can be *orders of magnitude*."
   ]
  },
  {
   "cell_type": "markdown",
   "id": "1d14410c",
   "metadata": {
    "slideshow": {
     "slide_type": "slide"
    }
   },
   "source": [
    "# Visualize the running times for many different `m` & `n`"
   ]
  },
  {
   "cell_type": "code",
   "execution_count": null,
   "id": "93188ac0",
   "metadata": {
    "slideshow": {
     "slide_type": "-"
    }
   },
   "outputs": [],
   "source": [
    "plot3D(log10.(ms .* ns1')[:], log10.(ms1 .* ns')[:], log10.(tqs_jl)[:], \".\", color=\"#8000FF\")\n",
    "plot3D(log10.(ms .* ns1')[:], log10.(ms1 .* ns')[:], log10.(tls_jl)[:], \".g\")\n",
    "legend((\"julia-bilinear\", \"julia-linear\"))\n",
    "xlabel(\"log10(# choices)\")\n",
    "ylabel(\"log10(# samples)\")\n",
    "zlabel(\"log10(time)\")"
   ]
  },
  {
   "cell_type": "markdown",
   "id": "b82deec9",
   "metadata": {
    "slideshow": {
     "slide_type": "slide"
    }
   },
   "source": [
    "# Comparing Julia & Python"
   ]
  },
  {
   "cell_type": "code",
   "execution_count": null,
   "id": "8b40fb62",
   "metadata": {
    "slideshow": {
     "slide_type": "-"
    }
   },
   "outputs": [],
   "source": [
    "plot3D(log10.(ms .* ns1')[:], log10.(ms1 .* ns')[:], log10.(tqs_jl)[:], \".\", color=\"#8000FF\")\n",
    "plot3D(log10.(ms .* ns1')[:], log10.(ms1 .* ns')[:], log10.(tls_jl)[:], \".g\")\n",
    "plot3D(log10.(ms .* ns1')[:], log10.(ms1 .* ns')[:], log10.(tqs_py)[:], \".y\")\n",
    "plot3D(log10.(ms .* ns1')[:], log10.(ms1 .* ns')[:], log10.(tls_py)[:], \".b\")\n",
    "legend((\"julia-bilinear\", \"julia-linear\", \"python-bilinear\", \"python-linear\"))\n",
    "xlabel(\"log10(# choices)\")\n",
    "ylabel(\"log10(# samples)\")\n",
    "zlabel(\"log10(time)\")\n"
   ]
  },
  {
   "cell_type": "markdown",
   "id": "0bab5c88",
   "metadata": {
    "slideshow": {
     "slide_type": "fragment"
    }
   },
   "source": [
    "In Python, `np.count` is written in C and is fast, but when we write the iterating & indexing code in Python, it's slow."
   ]
  },
  {
   "cell_type": "markdown",
   "id": "5eea87f8",
   "metadata": {
    "slideshow": {
     "slide_type": "fragment"
    }
   },
   "source": [
    "A *worse* algorithm gives *better* performance. Not just slow, but also confusing!"
   ]
  },
  {
   "cell_type": "markdown",
   "id": "b2bea3d1",
   "metadata": {
    "slideshow": {
     "slide_type": "slide"
    }
   },
   "source": [
    "# Estimating performance: track the loops\n",
    "\n",
    "```julia\n",
    "for i = 1:m, j = 1:n\n",
    "    # do something\n",
    "end\n",
    "```\n",
    "\n",
    "Iterates through `n` items a total of `m` times, leading to $t \\propto m n$."
   ]
  },
  {
   "cell_type": "markdown",
   "id": "907f10e2",
   "metadata": {
    "slideshow": {
     "slide_type": "subslide"
    }
   },
   "source": [
    "## Example: matrix-vector multiplication\n",
    "\n",
    "![matvec](figures/Matrix_vector_multiplication.png)"
   ]
  },
  {
   "cell_type": "markdown",
   "id": "2c1c4393",
   "metadata": {
    "slideshow": {
     "slide_type": "subslide"
    }
   },
   "source": [
    "Function body (naive implementation):\n",
    "\n",
    "```julia\n",
    "for i = 1:m\n",
    "    s = 0\n",
    "    for j = 1:n\n",
    "        s += M[i,j] * v[j]\n",
    "    end\n",
    "    out[i] = s\n",
    "end\n",
    "```\n",
    "\n",
    "So the total time is approximately `m*n`."
   ]
  },
  {
   "cell_type": "markdown",
   "id": "10e5634a",
   "metadata": {
    "slideshow": {
     "slide_type": "slide"
    }
   },
   "source": [
    "# Big-O notation\n",
    "\n",
    "You may notice there's a little work outside the innermost loop:\n",
    "\n",
    "```julia\n",
    "for i = 1:m\n",
    "    s = 0                      # happens `m` times\n",
    "    for j = 1:n\n",
    "        s += M[i,j] * v[j]     # happens `m*n` times\n",
    "    end\n",
    "    out[i] = s                 # happens `m` times\n",
    "end\n",
    "```\n",
    "\n",
    "More accurately, the running time is `a*m + b*m*n`, where `a` and `b` are constants."
   ]
  },
  {
   "cell_type": "markdown",
   "id": "00a07fb5",
   "metadata": {
    "slideshow": {
     "slide_type": "fragment"
    }
   },
   "source": [
    "*Big-O notation*: keep only the leading terms. `m*n` can be much bigger than `m`, so ignore the term proportional to `m`. We say this algorithm is $O(mn)$."
   ]
  },
  {
   "cell_type": "markdown",
   "id": "e5f24d35",
   "metadata": {
    "slideshow": {
     "slide_type": "subslide"
    }
   },
   "source": [
    "Good rule of thumb: keep all terms that *might* be leading.\n",
    "\n",
    "Examples:\n",
    "\n",
    "$t \\propto an^2 + bn^3$: say it is $O(n^3)$"
   ]
  },
  {
   "cell_type": "markdown",
   "id": "28f3df26",
   "metadata": {
    "slideshow": {
     "slide_type": "fragment"
    }
   },
   "source": [
    "$t \\propto an^2 + bmn + cm + dn$: say it is $O(n^2 + mn)$"
   ]
  },
  {
   "cell_type": "markdown",
   "id": "35cb6e97",
   "metadata": {
    "slideshow": {
     "slide_type": "slide"
    }
   },
   "source": [
    "# Analyzing an example from last session\n",
    "\n",
    "```julia\n",
    "function mult2(A, B, x)\n",
    "#     C = A * B\n",
    "#     return C * x\n",
    "    y = B * x\n",
    "    return A * y\n",
    "end\n",
    "```\n",
    "\n",
    "For simplicity, let's use square matrices, `m = n`."
   ]
  },
  {
   "cell_type": "markdown",
   "id": "67afb65c",
   "metadata": {
    "slideshow": {
     "slide_type": "subslide"
    }
   },
   "source": [
    "![matmatmul](figures/matmatmul.jpg)\n",
    "\n",
    "Each entry of the output is $O(n)$.\n",
    "\n",
    "There are $n^2$ such entries, so the total is $O(n^3)$."
   ]
  },
  {
   "cell_type": "markdown",
   "id": "c60ecfee",
   "metadata": {
    "slideshow": {
     "slide_type": "subslide"
    }
   },
   "source": [
    "So for our example:\n",
    "\n",
    "```julia\n",
    "function mult2(A, B, x)\n",
    "#     C = A * B            # O(n^3)\n",
    "#     return C * x         # O(n^2)\n",
    "    y = B * x              # O(n^2)\n",
    "    return A * y           # O(n^2)\n",
    "end\n",
    "```\n",
    "\n",
    "$O(n^2)$ is better than $O(n^3)$, so the second implementation wins."
   ]
  },
  {
   "cell_type": "markdown",
   "id": "77a5b71f",
   "metadata": {
    "slideshow": {
     "slide_type": "slide"
    }
   },
   "source": [
    "# A final example: binary search\n",
    "\n",
    "\"I'm thinking of a number between 1 and 100: guess which one it is!\""
   ]
  },
  {
   "cell_type": "markdown",
   "id": "ec50f1b6",
   "metadata": {
    "slideshow": {
     "slide_type": "fragment"
    }
   },
   "source": [
    "If I only tell you \"right\" or \"wrong\", you might have to try 100 guesses"
   ]
  },
  {
   "cell_type": "markdown",
   "id": "f0b993ab",
   "metadata": {
    "slideshow": {
     "slide_type": "fragment"
    }
   },
   "source": [
    "If I tell you \"smaller\" or \"bigger\", you can get it in 7"
   ]
  },
  {
   "cell_type": "markdown",
   "id": "a0b6939b",
   "metadata": {
    "slideshow": {
     "slide_type": "subslide"
    }
   },
   "source": [
    "Example:\n",
    "\n",
    "| guess | answer | remaining |\n",
    "| ---:|:--- |:--- |\n",
    "| 50 | \"smaller\" | 1:49 |\n",
    "|25 | \"bigger\" | 26:49 |\n",
    "|37 | \"smaller\" | 26:36 |\n",
    "|30 | \"bigger\" | 31:36 |\n",
    "|33 | \"smaller\" | 31:32 |\n",
    "|32 | \"correct!\" | |"
   ]
  },
  {
   "cell_type": "markdown",
   "id": "12f6af27",
   "metadata": {
    "slideshow": {
     "slide_type": "fragment"
    }
   },
   "source": [
    "Solving this problem is $O(\\log n)$."
   ]
  },
  {
   "cell_type": "markdown",
   "id": "8e69d360",
   "metadata": {
    "slideshow": {
     "slide_type": "fragment"
    }
   },
   "source": [
    "Lots of algorithms use such \"divide and conquer\" strategies and it frequently results in $O(\\log n)$ cost."
   ]
  },
  {
   "cell_type": "markdown",
   "id": "c196e610",
   "metadata": {
    "slideshow": {
     "slide_type": "slide"
    }
   },
   "source": [
    "# The difference between \"not slow\" and \"fast\"\n",
    "\n",
    "Julia *almost* lets you compare algorithms in a \"pure\" sense"
   ]
  },
  {
   "cell_type": "markdown",
   "id": "bc790c52",
   "metadata": {
    "slideshow": {
     "slide_type": "fragment"
    }
   },
   "source": [
    "But even Julia is not immune to a few idiosyncracies of computer hardware. Avoiding idiosyncracies and leveraging opportunities specific to the hardware is the difference between \"not slow\" and \"fast.\""
   ]
  },
  {
   "cell_type": "markdown",
   "id": "ab5ca7b4",
   "metadata": {
    "slideshow": {
     "slide_type": "subslide"
    }
   },
   "source": [
    "# A brief introduction to memory & cache\n",
    "\n",
    "Accessing *most* memory is slow. It's possible, but expensive, to build very fast memory."
   ]
  },
  {
   "cell_type": "markdown",
   "id": "8efc2733",
   "metadata": {
    "slideshow": {
     "slide_type": "fragment"
    }
   },
   "source": [
    "![cache1](figures/cache1.png)\n",
    "\n",
    "Ulrich Drepper, [What every programmer should know about memory](https://people.freebsd.org/~lstewart/articles/cpumemory.pdf)."
   ]
  },
  {
   "cell_type": "markdown",
   "id": "0089b23d",
   "metadata": {
    "slideshow": {
     "slide_type": "subslide"
    }
   },
   "source": [
    "## Key rules about memory\n",
    "\n",
    "- computers have multiple layers of cache\n",
    "- the fastest caches have only ~1/10^6 of the storage of main memory\n",
    "- main memory gets transferred to cache in small chunks of adjacent memory (*cache line*)\n",
    "- performance is better if you exploit what you have in cache before flushing it and swapping in new memory\n",
    "- CPUs try to predict what chunk will be needed next and start fetching it before you actually use it. Consequence: predictable access patterns are more efficient than unpredictable ones."
   ]
  },
  {
   "cell_type": "markdown",
   "id": "8766fdd8",
   "metadata": {
    "slideshow": {
     "slide_type": "fragment"
    }
   },
   "source": [
    "Tip: [LoopVectorization](https://github.com/JuliaSIMD/LoopVectorization.jl) will reorder your loops and make other changes that help \"not slow\" code become \"fast.\""
   ]
  },
  {
   "cell_type": "markdown",
   "id": "65174208",
   "metadata": {
    "slideshow": {
     "slide_type": "slide"
    }
   },
   "source": [
    "# Parallelism\n",
    "\n",
    "By default, code executes *serially* (in order). But increasingly, computers have multiple *cores* in the CPU:\n",
    "\n",
    "![threading](figures/multithreading.png)"
   ]
  },
  {
   "cell_type": "markdown",
   "id": "54b1b2fa",
   "metadata": {
    "slideshow": {
     "slide_type": "subslide"
    }
   },
   "source": [
    "## The `Threads` standard library\n",
    "\n",
    "Start Julia with multiple threads:\n",
    "\n",
    "```sh\n",
    "$ julia --threads 4\n",
    "```\n"
   ]
  },
  {
   "cell_type": "code",
   "execution_count": null,
   "id": "855b9254",
   "metadata": {
    "slideshow": {
     "slide_type": "fragment"
    }
   },
   "outputs": [],
   "source": [
    "Threads.nthreads()"
   ]
  },
  {
   "cell_type": "code",
   "execution_count": null,
   "id": "7cfee4d7",
   "metadata": {
    "slideshow": {
     "slide_type": "fragment"
    }
   },
   "outputs": [],
   "source": [
    "myid = Vector{Int}(undef, 8)\n",
    "Threads.@threads for i = 1:8\n",
    "    myid[i] = Threads.threadid()\n",
    "end\n",
    "myid'"
   ]
  },
  {
   "cell_type": "markdown",
   "id": "8ec0682f",
   "metadata": {
    "slideshow": {
     "slide_type": "subslide"
    }
   },
   "source": [
    "## Know the costs & benefits of threading\n",
    "\n",
    "A `Threads.@threads` has an overhead of a few microseconds, equivalent to thousands of computations. *Reserve threading for sizable jobs.*"
   ]
  },
  {
   "cell_type": "markdown",
   "id": "0bfa7196",
   "metadata": {
    "slideshow": {
     "slide_type": "fragment"
    }
   },
   "source": [
    "In cases where threads can work independently, it's sometimes possible to get an `~n`-fold speedup from `n` threads."
   ]
  },
  {
   "cell_type": "markdown",
   "id": "32dc73b1",
   "metadata": {
    "slideshow": {
     "slide_type": "fragment"
    }
   },
   "source": [
    "Communicating between threads can be a source of bugs and/or slowdowns."
   ]
  },
  {
   "cell_type": "markdown",
   "id": "76381968",
   "metadata": {
    "slideshow": {
     "slide_type": "subslide"
    }
   },
   "source": [
    "### Example: summation"
   ]
  },
  {
   "cell_type": "code",
   "execution_count": null,
   "id": "47079039",
   "metadata": {},
   "outputs": [],
   "source": [
    "function threadedsum(v)\n",
    "    s = 0\n",
    "    Threads.@threads for i in eachindex(v)\n",
    "        s = s + v[i]\n",
    "    end\n",
    "    return s\n",
    "end"
   ]
  },
  {
   "cell_type": "code",
   "execution_count": null,
   "id": "46a3ac93",
   "metadata": {
    "slideshow": {
     "slide_type": "fragment"
    }
   },
   "outputs": [],
   "source": [
    "v = rand(1:5, 10^4)\n",
    "threadedsum(v)"
   ]
  },
  {
   "cell_type": "code",
   "execution_count": null,
   "id": "d0f4108d",
   "metadata": {
    "slideshow": {
     "slide_type": "fragment"
    }
   },
   "outputs": [],
   "source": [
    "sum(v)"
   ]
  },
  {
   "cell_type": "markdown",
   "id": "42c73bb7",
   "metadata": {
    "slideshow": {
     "slide_type": "fragment"
    }
   },
   "source": [
    "Problem: `s` from one thread is being overwritten by another thread"
   ]
  },
  {
   "cell_type": "code",
   "execution_count": null,
   "id": "a5492b04",
   "metadata": {
    "slideshow": {
     "slide_type": "subslide"
    }
   },
   "outputs": [],
   "source": [
    "### Summation with threading\n",
    "\n",
    "function threadedsum2(v)\n",
    "    spartial = zeros(Int, Threads.nthreads())\n",
    "    Threads.@threads for i in eachindex(v)\n",
    "        spartial[Threads.threadid()] += v[i]\n",
    "    end\n",
    "    return sum(spartial)\n",
    "end"
   ]
  },
  {
   "cell_type": "code",
   "execution_count": null,
   "id": "0e76791b",
   "metadata": {
    "slideshow": {
     "slide_type": "fragment"
    }
   },
   "outputs": [],
   "source": [
    "threadedsum2(v)"
   ]
  },
  {
   "cell_type": "code",
   "execution_count": null,
   "id": "b6899bc4",
   "metadata": {
    "slideshow": {
     "slide_type": "fragment"
    }
   },
   "outputs": [],
   "source": [
    "sum(v)"
   ]
  },
  {
   "cell_type": "markdown",
   "id": "826e6f71",
   "metadata": {
    "slideshow": {
     "slide_type": "slide"
    }
   },
   "source": [
    "# Other opportunities in parallelism\n",
    "\n",
    "- GPU computing: Julia can generate native code for GPUs! See [JuliaGPU](https://juliagpu.org/)\n",
    "- Distributed computing: clusters"
   ]
  },
  {
   "cell_type": "markdown",
   "id": "d77f5f9a",
   "metadata": {
    "slideshow": {
     "slide_type": "fragment"
    }
   },
   "source": [
    "Caution: in slow languages, sometimes people reach almost unthinkingly for parallelism"
   ]
  },
  {
   "cell_type": "markdown",
   "id": "b3cb2379",
   "metadata": {
    "slideshow": {
     "slide_type": "fragment"
    }
   },
   "source": [
    "One of Julia's advantages: often, you *don't need parallelism* to get the speed you need"
   ]
  },
  {
   "cell_type": "markdown",
   "id": "422e7b17",
   "metadata": {
    "slideshow": {
     "slide_type": "fragment"
    }
   },
   "source": [
    "Optimize a simple implementation first, and only then adopt more complex measures"
   ]
  },
  {
   "cell_type": "markdown",
   "id": "f37f7ae1",
   "metadata": {
    "slideshow": {
     "slide_type": "slide"
    }
   },
   "source": [
    "# Course summary\n",
    "\n",
    "Hopefully you've learned a lot!\n",
    "\n",
    "Process:\n",
    "\n",
    "- Open source, git, & GitHub\n",
    "- Test-driven or test-centric development\n",
    "- Continuous integration, documentation, etc.\n",
    "\n",
    "High performance computing:\n",
    "\n",
    "- Using Julia to escape the limitations of older, slower languages\n",
    "- Using Julia well so that you don't inadvertently handicap your code\n",
    "- Exploiting Julia's strengths to choose the best algorithm and opportunities to get the most out of your hardware"
   ]
  },
  {
   "cell_type": "markdown",
   "id": "223c38f8",
   "metadata": {
    "slideshow": {
     "slide_type": "subslide"
    }
   },
   "source": [
    "# Next steps\n",
    "\n",
    "- diving deeper into algorithms & data structures: hash tables, heaps, priority queues, and many others\n",
    "- extending your knowledge of \"idiomatic\" Julia: read package code and Julia's `Base` module\n",
    "- participating in package development with more experienced Julia developers\n",
    "- learning more about threading & high-performance computing"
   ]
  },
  {
   "cell_type": "markdown",
   "id": "0f9b5064",
   "metadata": {
    "slideshow": {
     "slide_type": "fragment"
    }
   },
   "source": [
    "Good luck!"
   ]
  }
 ],
 "metadata": {
  "@webio": {
   "lastCommId": null,
   "lastKernelId": null
  },
  "celltoolbar": "Slideshow",
  "kernelspec": {
   "display_name": "Julia 4 Threads 1.6.4-pre",
   "language": "julia",
   "name": "julia-4-threads-1.6"
  },
  "language_info": {
   "file_extension": ".jl",
   "mimetype": "application/julia",
   "name": "julia",
   "version": "1.6.4"
  }
 },
 "nbformat": 4,
 "nbformat_minor": 5
}
